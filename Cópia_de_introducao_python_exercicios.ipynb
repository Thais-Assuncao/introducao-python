{
  "nbformat": 4,
  "nbformat_minor": 0,
  "metadata": {
    "colab": {
      "name": "Cópia de introducao-python-exercicios.ipynb",
      "provenance": [],
      "collapsed_sections": [
        "6W4nRnrK-iN_",
        "SzGfxrLeMY84"
      ],
      "include_colab_link": true
    },
    "kernelspec": {
      "name": "python3",
      "display_name": "Python 3"
    }
  },
  "cells": [
    {
      "cell_type": "markdown",
      "metadata": {
        "id": "view-in-github",
        "colab_type": "text"
      },
      "source": [
        "<a href=\"https://colab.research.google.com/github/Thais-Assuncao/introducao-python/blob/main/C%C3%B3pia_de_introducao_python_exercicios.ipynb\" target=\"_parent\"><img src=\"https://colab.research.google.com/assets/colab-badge.svg\" alt=\"Open In Colab\"/></a>"
      ]
    },
    {
      "cell_type": "markdown",
      "metadata": {
        "id": "eAoCCwy1iOBK"
      },
      "source": [
        "---\n",
        "### Tipado Dinamicamente\n",
        "\n",
        "Python é uma linguagem tipada dinalicamente, ou seja,  não é necessário declarar uma variável e definir o tipo de seu dado: o tipo de dado será associado em tempo de execução de acordo com o valor atribuído para aquela variável. \n",
        "\n",
        "### Tipos básicos  \n",
        "\n",
        "O Python possui algunas funçoes nativas, chamadas de \"built-ins\"que nos ajudam na manipulação de strings\n",
        "\n",
        "|Python | O que significa  | Exemplos  | \n",
        "|:---:|:---|:---|\n",
        "| bool     | Valores booleanos: Verdadeiro ou Falso | eh_maior = 22 > 10 <br> status = False\n",
        "| float     | Valores com ponto flutuante |  nota = 7.5 <br> preco = 30.55 \n",
        "| int| Valores inteiros: …, -2, -1, 0, 1, 2, 3, ... |  alunos_presentes = 20 <br> numero_de_slides = 50\n",
        "| str     | Textos: python considera texto tudo que estiver entre aspas (simples ou duplas)        | dia = \"sábado\" <br> assunto = 'python  básico' <br> semana = \"5\"\n",
        "| Lista   | Sequência de objetos separados por vírgula, e dentro de colchetes.  | devs = [\"ana\", \"amanda, \"andorinha\"] <br> idades = [23, 19, 38]\n",
        "\n",
        "Execute os comandos de exemplo para visualizar os resultados:"
      ]
    },
    {
      "cell_type": "code",
      "metadata": {
        "id": "-5UyZbWZneeJ",
        "outputId": "e378af98-c35d-4875-8c9c-da209dbd15b8",
        "colab": {
          "base_uri": "https://localhost:8080/",
          "height": 35
        }
      },
      "source": [
        "22 > 10\n"
      ],
      "execution_count": null,
      "outputs": [
        {
          "output_type": "execute_result",
          "data": {
            "text/plain": [
              "True"
            ]
          },
          "metadata": {
            "tags": []
          },
          "execution_count": 21
        }
      ]
    },
    {
      "cell_type": "markdown",
      "metadata": {
        "id": "PwrNWAoNqBGB"
      },
      "source": [
        "\n",
        "\n",
        "### Variáveis\n",
        "\n",
        "Em Python os nomes das variáveis podem ser compostos de letras maiúsculas, minúsculas, underscore e números, iniciando com letras ou underscore (_).\n",
        "\n",
        "\n",
        "### Tipagem das variáveis\n",
        "\n",
        "Há um comando para descobrir o tipo de uma variável: type().\n",
        "\n",
        "Exemplo:\n",
        "```\n",
        "nome = \"Alini\"\n",
        "valor = 10\n",
        "expressao = 1 + valor / 3\n",
        "\n",
        "print(nome)\n",
        "print(valor)\n",
        "print(expressao)\n",
        "\n",
        "print(type(nome))\n",
        "print(type(valor))\n",
        "print(type(expressao))\n",
        "``` \n",
        "Execute os comandos de exemplo para visualizar os resultados:\n",
        "\n"
      ]
    },
    {
      "cell_type": "code",
      "metadata": {
        "id": "QOq3K556Gzsj",
        "outputId": "0bac079b-884d-402a-a6c6-335101972b64",
        "colab": {
          "base_uri": "https://localhost:8080/",
          "height": 35
        }
      },
      "source": [
        "altura = 1.72\n",
        "print(type(altura))"
      ],
      "execution_count": null,
      "outputs": [
        {
          "output_type": "stream",
          "text": [
            "<class 'float'>\n"
          ],
          "name": "stdout"
        }
      ]
    },
    {
      "cell_type": "markdown",
      "metadata": {
        "id": "J7L0SYIrseck"
      },
      "source": [
        "---\n",
        "\n",
        "### Exercícios Python [1]\n",
        "Você possui uma variável a = 10 e uma variável b = 5, e precisa trocar o valor das duas. Como você faria?\n"
      ]
    },
    {
      "cell_type": "code",
      "metadata": {
        "id": "B_sXZErjsonx",
        "outputId": "2e2d1126-c186-475a-a8d7-575a8083c539",
        "colab": {
          "base_uri": "https://localhost:8080/",
          "height": 35
        }
      },
      "source": [
        "a = 10\n",
        "b = 5\n",
        "\n",
        "b = a\n",
        "print(b)"
      ],
      "execution_count": null,
      "outputs": [
        {
          "output_type": "stream",
          "text": [
            "10\n"
          ],
          "name": "stdout"
        }
      ]
    },
    {
      "cell_type": "markdown",
      "metadata": {
        "id": "z30WuoVE7fFE"
      },
      "source": [
        "---\n",
        "### Entradas e saídas\n",
        "\n",
        "Perceberam que no exercício anterior eu utilizei uma função chamada print, para apresentar a informação da variável na tela?\n",
        "Print é uma função de saída, e também possuímos uma função de entrada, chamada input.\n",
        "```\n",
        "Entrada: \n",
        "\tinput(“Texto opcional que será exibido para o usuário”)\n",
        "Saída:\n",
        "\tprint(f\"Textos a serem exibidos e {variaveis}\")\n",
        "```\n",
        "**Os textos devem ser colocados entre aspas.\n",
        "\n",
        "### Exercícios Python [2]\n",
        "Faça um programa que pergunte que dia é, e diga quantos faltam até o final do mês. Considere o mês com trinta e um dias.\n"
      ]
    },
    {
      "cell_type": "code",
      "metadata": {
        "id": "6g1aF_u87lc2",
        "outputId": "33134130-bb83-49fb-ac11-a48b4c6bcd49",
        "colab": {
          "base_uri": "https://localhost:8080/",
          "height": 52
        }
      },
      "source": [
        "dia = int(input(\"Que dia é hoje?\"))\n",
        "faltam = 31 - dia\n",
        "print(f\"Faltam {faltam} dias para acabar o mês\") "
      ],
      "execution_count": null,
      "outputs": [
        {
          "output_type": "stream",
          "text": [
            "Que dia é hoje?2\n",
            "Faltam 29 dias para acabar o mês\n"
          ],
          "name": "stdout"
        }
      ]
    },
    {
      "cell_type": "markdown",
      "metadata": {
        "id": "BhGYYkf680M0"
      },
      "source": [
        "--------------------------------------------------------------------------------\n",
        "### Exercícios Python [3]\n",
        "\n",
        "Faça um programa que receba o número de brindes do Maria vai com as Devs que  a Jéssica vai mandar fazer, e imprima quanto de entrada ela irá que pagar. Considere que cada brinde custa R$25,00, e a entrada para o fabricante é de 50% do valor total."
      ]
    },
    {
      "cell_type": "code",
      "metadata": {
        "id": "4r_YkULZ9fF6",
        "outputId": "195c99ac-5b60-41cd-bb97-4087e8eeefd4",
        "colab": {
          "base_uri": "https://localhost:8080/",
          "height": 52
        }
      },
      "source": [
        "valor = 25\n",
        "qtd = int(input(\"Quantos brindes você precisa?\"))\n",
        "entrada = (qtd*valor)/2\n",
        "print(f\"Você precisará dar {entrada:.2f} de entrada\")\n"
      ],
      "execution_count": null,
      "outputs": [
        {
          "output_type": "stream",
          "text": [
            "Quantos brindes você precisa?60\n",
            "Você precisará dar 750.00 de entrada\n"
          ],
          "name": "stdout"
        }
      ]
    },
    {
      "cell_type": "markdown",
      "metadata": {
        "id": "cQnKK8urA5El"
      },
      "source": [
        "---\n",
        "\n",
        "### Exercícios Python [4]\n",
        "A Serasa irá gerar um minicurso de aprendizagem financeira e está planejando um coffee break ás 15 horas.\n",
        "\n",
        "Leia o número de participantes do minicurso e imprima: \n",
        "* Quantos litros de refrigerante teremos que comprar\n",
        "* Quantas coxinhas e quanto iremos gastar.\n",
        "\n",
        "Considere que cada participante toma 400ml de refrigerante, come 10 coxinhas, que cada litro de refrigerante custa 4,00 e cada coxinha  custa  0,50. "
      ]
    },
    {
      "cell_type": "code",
      "metadata": {
        "id": "pZQdq96WBDfj",
        "outputId": "622df897-7434-495d-f312-19c600d6e76b",
        "colab": {
          "base_uri": "https://localhost:8080/",
          "height": 87
        }
      },
      "source": [
        "qtd_de_participantes = int(input(\"Quantas pessoas irão participar do evento?\"))\n",
        "refri = qtd_de_participantes*0.4\n",
        "coxinha = qtd_de_participantes*10\n",
        "custo_total = (refri*4) + (coxinha*0.5)\n",
        "\n",
        "print(f\"Você vai precisar de {refri:.2f} litros\")\n",
        "print(f\"Você vai precisar de {coxinha} coxinhas\")\n",
        "print(f\"Você iá gastar R$ {custo_total:.2f}\")\n"
      ],
      "execution_count": null,
      "outputs": [
        {
          "output_type": "stream",
          "text": [
            "Quantas pessoas irão participar do evento?55\n",
            "Você vai precisar de 22.00 litros\n",
            "Você vai precisar de 550 coxinhas\n",
            "Você iá gastar R$ 363.00\n"
          ],
          "name": "stdout"
        }
      ]
    },
    {
      "cell_type": "markdown",
      "metadata": {
        "id": "HS-_7ddqNgOn"
      },
      "source": [
        "----\n",
        "### Dicas [Comentários]"
      ]
    },
    {
      "cell_type": "code",
      "metadata": {
        "id": "q_e7tFE2D-VL",
        "outputId": "9e3d672b-4cb2-438f-e9fc-59cbc7be7766",
        "colab": {
          "base_uri": "https://localhost:8080/",
          "height": 34
        }
      },
      "source": [
        "print(\"Exemplo de código que não vai ser ignorado pelo Python\")\n",
        "#Comentário que o Python não vai processar ^-^"
      ],
      "execution_count": null,
      "outputs": [
        {
          "output_type": "stream",
          "text": [
            "Exemplo de código que não vai ser ignorado pelo Python\n"
          ],
          "name": "stdout"
        }
      ]
    },
    {
      "cell_type": "markdown",
      "metadata": {
        "id": "CDFYRqmKQT7D"
      },
      "source": [
        "---\n",
        "### Dicas [Incremento e Decremento]\n",
        "\n",
        "No Python você pode incrementar ou decrementar um valor e salvar o resultado na mesma variável. "
      ]
    },
    {
      "cell_type": "code",
      "metadata": {
        "id": "j4vF7odGG8T7",
        "outputId": "04e6a1c4-8cf6-4867-b604-829b20e0ee31",
        "colab": {
          "base_uri": "https://localhost:8080/",
          "height": 35
        }
      },
      "source": [
        "x = 10\n",
        "x += 1\n",
        "print(x)"
      ],
      "execution_count": null,
      "outputs": [
        {
          "output_type": "stream",
          "text": [
            "11\n"
          ],
          "name": "stdout"
        }
      ]
    },
    {
      "cell_type": "markdown",
      "metadata": {
        "id": "zbsjwxliNTuI"
      },
      "source": [
        "---\n",
        "### Dicas [Separando um texto com split()]\n",
        "\n",
        "Se você não determinar nenhum caractere de espaçamento para o split(), ele assumirá que é um espaço em branco.\n",
        "Como você dividirá sua entrada em duas, poderá armazená-la em duas variáveis diferentes! Se você não colocar variáveis suficientes, python criará uma lista*."
      ]
    },
    {
      "cell_type": "code",
      "metadata": {
        "id": "O7lKfRKvKOaQ",
        "outputId": "2b4969b8-242b-4a67-ec27-1514ad3d2bd6",
        "colab": {
          "base_uri": "https://localhost:8080/",
          "height": 70
        }
      },
      "source": [
        "primeiro_nome, segundo_nome = input(\"Digite os nomes:\").split()\n",
        "print(primeiro_nome)\n",
        "print(segundo_nome)"
      ],
      "execution_count": null,
      "outputs": [
        {
          "output_type": "stream",
          "text": [
            "Digite os nomes:Thais Pati\n",
            "Thais\n",
            "Pati\n"
          ],
          "name": "stdout"
        }
      ]
    },
    {
      "cell_type": "markdown",
      "metadata": {
        "id": "_P6HpGYtP_5y"
      },
      "source": [
        "---- \n",
        "#### Dicas [Separando um texto com split()]\n",
        "Na conversão de tipos de dados de entrada, para dividir a entrada em mais de uma variável e já transformar ela para o tipo desejado, utilizamos um comando auxiliar chamado map()\n"
      ]
    },
    {
      "cell_type": "code",
      "metadata": {
        "id": "M92fJzVTRUVf",
        "outputId": "4086b6e3-21c7-47c8-d577-b184d0758f2a",
        "colab": {
          "base_uri": "https://localhost:8080/",
          "height": 70
        }
      },
      "source": [
        "valor1, valor2 = map(int, input(\"Digite dois valores:\").split(\",\"))\n",
        "print(valor1)\n",
        "print(valor2)"
      ],
      "execution_count": null,
      "outputs": [
        {
          "output_type": "stream",
          "text": [
            "Digite dois valores:2, 5\n",
            "2\n",
            "5\n"
          ],
          "name": "stdout"
        }
      ]
    },
    {
      "cell_type": "markdown",
      "metadata": {
        "id": "1FHOm1QJUzrW"
      },
      "source": [
        "---\n",
        "### Exercícios Python [5]\n",
        "\n",
        "Para que a jéssica consiga enviar os brindes e não errar na preferência de cores de todas as participantes, ela precisa saber a quantidade de pessoas que preferem a cor rosa, roxo ou azul.\n",
        "Faça um programa que leia a quantidade de pessoas que preferem cada cor e retorne a porcentagem de cada uma destas cores."
      ]
    },
    {
      "cell_type": "code",
      "metadata": {
        "id": "ff9YwbCIVCR1",
        "outputId": "dcd216aa-9a65-4a7f-e7fd-f3e8bb893e42",
        "colab": {
          "base_uri": "https://localhost:8080/",
          "height": 107
        }
      },
      "source": [
        "rosa, roxo, azul = map(int, input(\"Digite quantas pessoas gostam de rosa, roxo e azul respectivamente, separado por vírgula\").split(\",\"))\n",
        "total_pessoas = rosa + roxo + azul\n",
        "porcentagem_rosa = rosa/total_pessoas*100\n",
        "porcentagem_roxo = roxo/total_pessoas*100\n",
        "porcentagem_azul = azul/total_pessoas*100\n",
        "\n",
        "print(f\"{porcentagem_rosa:.2f}% de pessoas preferem rosa.\")\n",
        "print(f\"{porcentagem_roxo:.2f}% de pessoas preferem roxo.\")\n",
        "print(f\"{porcentagem_azul:.2f}% de pessoas preferem azul.\")"
      ],
      "execution_count": null,
      "outputs": [
        {
          "output_type": "stream",
          "text": [
            "Digite quantas pessoas gostam de rosa, roxo e azul respectivamente, separado por vírgula10,20,30\n",
            "16.67% de pessoas preferem rosa.\n",
            "33.33% de pessoas preferem roxo.\n",
            "50.00% de pessoas preferem azul.\n"
          ],
          "name": "stdout"
        }
      ]
    },
    {
      "cell_type": "markdown",
      "metadata": {
        "id": "3utXBlm-sWbH"
      },
      "source": [
        "---\n",
        "### Estruturas condicionais\n",
        "\n",
        "Uma Estrutura de Condição, como o próprio nome já diz, verifica a condição dos argumentos passados e, executa um comando caso a condição seja verdadeira.\n",
        "\n",
        "```\n",
        "SE condição\n",
        "ENTÃO comando\n",
        "```\n",
        "\n",
        "Sintaxe em python:\n",
        "```\n",
        "if condição:\n",
        "    código\n",
        "elif condição:\n",
        "    código\n",
        "else:\n",
        "    código\n",
        "```\n",
        "\n",
        "### Exercícios Python [6]\n",
        "\n",
        "Dez pessoas assinalaram que iriam participar do encontro do Maria vai com as Devs hoje. \n",
        "\n",
        "Faça um programa que leia o número de pessoas presentes e escreva “Sucesso!” se todas as pessoas compareceram, e “Alguém faltou :/” caso contrário.\n",
        "\n",
        "Se houverem mais de dez pessoas imprima “Temos um intruso entre nós :v”."
      ]
    },
    {
      "cell_type": "code",
      "metadata": {
        "id": "e0KmEDJFsjHS",
        "outputId": "694f805a-c219-4c0a-bb31-af9c1edd7f59",
        "colab": {
          "base_uri": "https://localhost:8080/",
          "height": 52
        }
      },
      "source": [
        "faltaram = int(input(\"Quantas pessoas estão presentes hoje?\"))\n",
        "if(faltaram == 10):\n",
        "  print(\"Sucesso!\")\n",
        "else:\n",
        "  print(\"Alguém faltou =/\")"
      ],
      "execution_count": null,
      "outputs": [
        {
          "output_type": "stream",
          "text": [
            "Quantas pessoas estão presentes hoje?5\n",
            "Alguém faltou =/\n"
          ],
          "name": "stdout"
        }
      ]
    },
    {
      "cell_type": "markdown",
      "metadata": {
        "id": "rCAns0Ox0XHN"
      },
      "source": [
        "---\n",
        "### Álgebra booleana em Python\n",
        "Para facilitar a estruturação das condições, podemos utilizar os operadores booleanos\n",
        "\n",
        "| Operador  | Python | Exemplo  | Descrição  |\n",
        "|---|:---|:---|:---|\n",
        "| E| and|P and Q |Se P e Q forem verdadeiros retorna True, se não retorna False \n",
        "|OU| or|P or Q|Se P ou Q forem verdadeiros retorna True, se não retorna False\n",
        "|Não  | not | not Q |Se Q é verdadeiro retorna False, se não retorna True\n"
      ]
    },
    {
      "cell_type": "code",
      "metadata": {
        "id": "f_7IXsHzul2o",
        "outputId": "430cb40f-5003-474f-efd8-ddcdf604a813",
        "colab": {
          "base_uri": "https://localhost:8080/",
          "height": 69
        }
      },
      "source": [
        "a = True\n",
        "b = False\n",
        "c = None \n",
        "\n",
        "# Retorna True, porque o c é None, ou seja, não á valor nenhum atribuído a ele\n",
        "print(f\"Condicional not (not c): {not c}\")\n",
        "\n",
        "#Retorna True, porque o a é verdadeiro. Para retornar True, uma das opções deve ser verdadeira\n",
        "print(f\"Condicional or (a or b): {a or b}\")\n",
        "\n",
        "#Retorna False, porque o a é verdadeiro e o b é False. Para retornar True, ambos devem ser verdadeiros\n",
        "print(f\"Condicional and (a and b): {a and b}\")"
      ],
      "execution_count": null,
      "outputs": [
        {
          "output_type": "stream",
          "text": [
            "Condicional not (not c): True\n",
            "Condicional or (a or b): True\n",
            "Condicional and (a and b): False\n"
          ],
          "name": "stdout"
        }
      ]
    },
    {
      "cell_type": "markdown",
      "metadata": {
        "id": "dPgxj5P_QM6-"
      },
      "source": [
        "---\n",
        "### Exercícios Python [7]\n",
        "Receba duas notas, uma é de uma prova e outra é de um trabalho, por fim retorne:\n",
        "\n",
        "Se a nota da prova for maior ou igual a 5 e nota do trabalho maior que 6: “Aprovado”;\n",
        "Senão: “Reprovado”."
      ]
    },
    {
      "cell_type": "code",
      "metadata": {
        "id": "t7GuTZQJ0hN3",
        "outputId": "13740103-fdd1-4ff1-ed5e-4842fdddf75f",
        "colab": {
          "base_uri": "https://localhost:8080/",
          "height": 70
        }
      },
      "source": [
        "prova = float(input(\"Digite a nota da prova\")) \n",
        "trabalho = float(input(\"Digite a nota do trabalho\")) \n",
        "\n",
        "if (prova >= 5 and trabalho > 6):\n",
        "  print(\"Aprovado\")\n",
        "else:\n",
        "  print(\"Reprovado\")"
      ],
      "execution_count": 3,
      "outputs": [
        {
          "output_type": "stream",
          "text": [
            "Digite a nota da prova5.5\n",
            "Digite a nota do trabalho6.8\n",
            "Aprovado\n"
          ],
          "name": "stdout"
        }
      ]
    },
    {
      "cell_type": "markdown",
      "metadata": {
        "id": "mCXGIpi54QhY"
      },
      "source": [
        "---\n",
        "### Exercícios Python [8]\n",
        "\n",
        "A Serasa anualmente promove a ida dos desenvolvedores para a Python Brasil, mas como temos um número limitado de ingressos disponíveis, pode ser necessário decidir quem irá.\n",
        "\n",
        "Como critério de desempate sobre os ingressos, quem nunca participou do evento terá prioridade.\n",
        "\n",
        "Receba o número de ingressos disponíveis, o número total de interessados e o número de interessados que já participaram do evento antes, diga se é possível distribuir os ingressos apenas com essas regras, ou se será necessário um sorteio.\n",
        "\n",
        "\n"
      ]
    },
    {
      "cell_type": "code",
      "metadata": {
        "id": "AduAMBIq5AJr",
        "outputId": "a9ed778e-a92f-4a82-8825-121661bba8f2",
        "colab": {
          "base_uri": "https://localhost:8080/",
          "height": 87
        }
      },
      "source": [
        "\n",
        "total_ingressos = int(input(\"Quantos ingressos estão disponíveis?\"))\n",
        "interessados = int(input(\"Quantas pessoas estão interessadas em participar?\"))\n",
        "ja_participaram = int(input(\"Quantas pessoas já participaram?\"))\n",
        "nao_participou = interessados - ja_participaram\n",
        "\n",
        "if (total_ingressos >= interessados):\n",
        "  print(\"Todos participarão!\")\n",
        "elif (interessados - ja_participaram <= total_ingressos):\n",
        "  print(\"Todos que nunca foram irão\")\n",
        "else:\n",
        "  print(\"Será necessário um sorteio\")"
      ],
      "execution_count": 7,
      "outputs": [
        {
          "output_type": "stream",
          "text": [
            "Quantos ingressos estão disponíveis?20\n",
            "Quantas pessoas estão interessadas em participar?40\n",
            "Quantas pessoas já participaram?10\n",
            "Será necessário um sorteio\n"
          ],
          "name": "stdout"
        }
      ]
    },
    {
      "cell_type": "markdown",
      "metadata": {
        "id": "6W4nRnrK-iN_"
      },
      "source": [
        "---\n",
        "### Exercícios Python [9]\n",
        "\n",
        "Nos últimos anos o Brasil está com muita variação de temperatura, e uma coisa louca acontecendo é que você pode passar por várias estações do ano num mesmo dia!\n",
        "Para ajudar as pessoas a não pegar uma gripe ou uma insolação, você vai ler a temperatura e a umidade do ar da tabela a seguir,e criar um programa que classifica quais itens de sobrevivência são necessários para nossos dias de “verão”.\n",
        "\n",
        "| Temperatura às 8h - ºC  |  Umidade do ar - % | Itens de sobrevivência  |\n",
        "|---|---|---|\n",
        "| 10ºC < 15ºC  | 0 <= 40    | Blusa de frio e regata                |\n",
        "| 10ºC < 15ºC  | 40 <= 100 | Blusa de frio, regata e guarda-chuva  |\n",
        "| 15ºC < 20ºC  | 0 < 40    | Blusa de frio e regata                |\n",
        "| 15ºC < 20ºC  | 40 <= 100 | Blusa de frio, regata e guarda-chuva  |\n",
        "| 20ºC < 25ºC  | 0 < 40    | Regata                                |\n",
        "| 20ºC < 25ºC  | 40 <= 100 | Regata e guarda-chuva                 |\n"
      ]
    },
    {
      "cell_type": "code",
      "metadata": {
        "id": "dg_NLKdY-mJr",
        "outputId": "64c39005-5d75-4092-dd2b-ab407eecd16d",
        "colab": {
          "base_uri": "https://localhost:8080/",
          "height": 70
        }
      },
      "source": [
        "temperatura = int(input(\"Temperatura:\"))\n",
        "umidade = int(input(\"Umidade:\"))\n",
        "\n",
        "if (10<temperatura<15 and 0<umidade<=40):\n",
        "  print(\"Blusa de frio e regata\")\n",
        "elif (10<temperatura<15 and 40<umidade<=100):\n",
        "  print(\"Blusa de frio e regata e guarda-chuva\")\n",
        "elif (15<temperatura<20 and 0<umidade<40):\n",
        "  print(\"Blusa de frio e regata\")\n",
        "elif (15<temperatura<20 and 40<umidade<=100):\n",
        "  print(\"Blusa de frio e regata e guarda-chuva\")\n",
        "elif (20<temperatura<25 and 0<umidade<40):\n",
        "  print(\"Regata\")\n",
        "else:\n",
        "  print(\"Regata e guarda-chuva\")"
      ],
      "execution_count": 9,
      "outputs": [
        {
          "output_type": "stream",
          "text": [
            "Temperatura:15\n",
            "Umidade:50\n",
            "Regata e guarda-chuva\n"
          ],
          "name": "stdout"
        }
      ]
    },
    {
      "cell_type": "code",
      "metadata": {
        "id": "_P9uKKlgqm9g",
        "outputId": "aef50210-8264-4477-f9c9-a98b07b06c00",
        "colab": {
          "base_uri": "https://localhost:8080/",
          "height": 70
        }
      },
      "source": [
        "temperatura = int(input(\"Temperatura:\"))\n",
        "umidade = int(input(\"Umidade:\"))\n",
        "\n",
        "if temperatura <10 or temperatura > 25:\n",
        "  print(\"Nada acontece, feijoada\")\n",
        "else:\n",
        "    if temperatura < 15:\n",
        "        if umidade < 40:\n",
        "            print(\"Blusa de frio e regata\")\n",
        "        else:\n",
        "            print(\"Blusa de frio, regata e guarda-chuva\")\n",
        "    elif temperatura < 20:\n",
        "        if umidade < 40:\n",
        "            print(\"Blusa de frio e regata\")\n",
        "        else:\n",
        "            print(\"Blusa de frio, regata e guarda-chuva\")\n",
        "    else:\n",
        "        if umidade < 40:\n",
        "            print(\"Regata\")\n",
        "        else:\n",
        "            print(\"Regata e guarda-chuva\")"
      ],
      "execution_count": 10,
      "outputs": [
        {
          "output_type": "stream",
          "text": [
            "Temperatura:15\n",
            "Umidade:50\n",
            "Blusa de frio, regata e guarda-chuva\n"
          ],
          "name": "stdout"
        }
      ]
    },
    {
      "cell_type": "markdown",
      "metadata": {
        "id": "SzGfxrLeMY84"
      },
      "source": [
        "---\n",
        "###  Strings [Símbolos]\n",
        "\n",
        "O Python possui alguns símbolos que nos auxiliam na manipulação de strings:\n",
        "\n",
        "\n",
        "|Símbolo | Signficado  | Exemplo  | Resultado  | \n",
        "|:---:|:---|:---|:---:|\n",
        "| +      | Concatenação  |  'bolinho de ' + 'chuva '+ 'quero' | ?  |\n",
        "| -      | Repetição     |  'Maria vai com as devs '*4        | ?  |\n",
        "|[]      | Indexação     |  'chuva'[1]                        | ?  |\n",
        "|[:]     | Fatiamento    |  'chuva'[0:1]                      | ?  |\n",
        "|{}      | Substituição  |  'chuv{}'.format('inha')           | ?  |\n",
        "|in      | Verificação   |  'chuv' in 'chuvinha'              | ?  |\n",
        "|not in  | Verificação   |  'chuva' not in 'chuvinha'         | ?  |\n",
        "\n",
        "\n",
        "\n",
        "Execute os comandos de exemplo para visualizar os resultados:"
      ]
    },
    {
      "cell_type": "code",
      "metadata": {
        "id": "UP9aVk5QPDsD",
        "outputId": "a4d83de0-d11d-4078-933e-30f9e18af5fd",
        "colab": {
          "base_uri": "https://localhost:8080/",
          "height": 34
        }
      },
      "source": [
        "'chuv' not in 'chuvinha'\n"
      ],
      "execution_count": null,
      "outputs": [
        {
          "output_type": "execute_result",
          "data": {
            "text/plain": [
              "False"
            ]
          },
          "metadata": {
            "tags": []
          },
          "execution_count": 35
        }
      ]
    },
    {
      "cell_type": "markdown",
      "metadata": {
        "id": "bY4eutVtSctJ"
      },
      "source": [
        "---\n",
        "\n",
        "### Strings [Funções]  \n",
        "\n",
        "O Python possui algunas funçoes nativas, chamadas de \"built-ins\"que nos ajudam na manipulação de strings\n",
        "\n",
        "|Função | Parâmetro  | Aplicação  | Resultado  | \n",
        "|:---:|:---|:---|:---:|\n",
        "| upper     | nenhum      |  \"bolinho de chuva\".upper()              | ?  |\n",
        "| lower     | nenhum      |  \"BOLINHO DE CHUVA\".lower()              | ?  |\n",
        "| capitalize| nenhum      |  \"bolinho de chuva\".capitalize()         | ?  |\n",
        "| count     | item        |  \"bolinho de chuva\".count(\"h\")           | ?  |\n",
        "| replace   | (old, new)  |  \"bolinho de chuva\".replace(\"a\", \"inha\") | ?  |\n",
        "| find      | item        |  \"bolinho de chuva\".find(\"chu\")          | ?  |\n",
        "| len       | item        |  len(\"bolinho de chuva\")                 | ?  |\n",
        "\n",
        "\n",
        "\n",
        "\n",
        "\n",
        "\n",
        "\n",
        "\n",
        "\n",
        "\n",
        "Execute os comandos de exemplo para visualizar os resultados:"
      ]
    },
    {
      "cell_type": "code",
      "metadata": {
        "id": "Sq6K0DVnT4lo",
        "outputId": "4f651cf9-da20-45f6-f0b6-0806392b09a0",
        "colab": {
          "base_uri": "https://localhost:8080/",
          "height": 70
        }
      },
      "source": [
        "for x in range(2,5):\n",
        "\tprint(x)"
      ],
      "execution_count": 14,
      "outputs": [
        {
          "output_type": "stream",
          "text": [
            "2\n",
            "3\n",
            "4\n"
          ],
          "name": "stdout"
        }
      ]
    },
    {
      "cell_type": "markdown",
      "metadata": {
        "id": "HU6nB81LWHub"
      },
      "source": [
        "---\n",
        "### Exercícios Python [10]\n",
        "\n",
        "Você é o responsável por gerar os certificados dos da trilha financeira da serasa, porém, sabemos que eventualmente os participantes não cooperam e escrevem seus nomes sem seguir a norma padrão, apenas com a primeira letra maiúscula. Para evitar certificados despadronizados, você resolveu escrever um programa em Python para normalizar os nomes para você!\n",
        "\n",
        "O programa recebe um nome e padroniza o nome para você:\n",
        "\n"
      ]
    },
    {
      "cell_type": "code",
      "metadata": {
        "id": "3yWKzpxOWNEz",
        "outputId": "d1635e48-2c7c-41b2-fea3-ae013fd41e6f",
        "colab": {
          "base_uri": "https://localhost:8080/",
          "height": 52
        }
      },
      "source": [
        "nome = input(\"Digite o nome do participante:\")\n",
        "nome_norma_padrao = nome.capitalize()\n",
        "\n",
        "print(nome_norma_padrao)\n"
      ],
      "execution_count": null,
      "outputs": [
        {
          "output_type": "stream",
          "text": [
            "Digite o nome do participante:thaís\n",
            "Thaís\n"
          ],
          "name": "stdout"
        }
      ]
    },
    {
      "cell_type": "markdown",
      "metadata": {
        "id": "bY5WBo5pXEfi"
      },
      "source": [
        "---\n",
        "### Estruturas de repetição\n",
        "\n",
        "As estruturas padrões para repetição em Python são:\n",
        " ```\n",
        " while (condição):\n",
        "    # código\n",
        " ``` \n",
        "\n",
        " ```\n",
        " for item in iterável:\n",
        "  # código\n",
        "```  \n",
        "\n",
        "### Exercício Python[11]\n",
        "\n",
        "Leia números enquanto a soma dos números lidos seja menor que 20.\n",
        "\n"
      ]
    },
    {
      "cell_type": "code",
      "metadata": {
        "id": "ajde_SZmY79z",
        "outputId": "461a0357-4a65-44e3-a964-e82188617248",
        "colab": {
          "base_uri": "https://localhost:8080/",
          "height": 105
        }
      },
      "source": [
        "numero = int(input(\"Digite um número: \"))\n",
        "\n",
        "while (numero < 20):\n",
        "  proximo = int(input(\"Digite o próximo número: \"))\n",
        "  numero = numero + proximo\n",
        "\n",
        "print(f\"A soma total foi de {numero}\" )"
      ],
      "execution_count": 21,
      "outputs": [
        {
          "output_type": "stream",
          "text": [
            "Digite um número: 5\n",
            "Digite o próximo número: 5\n",
            "Digite o próximo número: 5\n",
            "Digite o próximo número: 10\n",
            "A soma total foi de 25\n"
          ],
          "name": "stdout"
        }
      ]
    },
    {
      "cell_type": "code",
      "metadata": {
        "id": "cmvJutji0cMg",
        "outputId": "c65bd12c-9798-404e-c930-d945da08aaf4",
        "colab": {
          "base_uri": "https://localhost:8080/",
          "height": 70
        }
      },
      "source": [
        "soma = 0\n",
        "\n",
        "while soma < 20:\n",
        "  soma += int(input(\"Digite o próximo número: \"))\n",
        "\n",
        "print(f\"A soma total foi de {soma}\" )"
      ],
      "execution_count": 24,
      "outputs": [
        {
          "output_type": "stream",
          "text": [
            "Digite o próximo número: 10\n",
            "Digite o próximo número: 12\n",
            "A soma total foi de 22\n"
          ],
          "name": "stdout"
        }
      ]
    },
    {
      "cell_type": "markdown",
      "metadata": {
        "id": "c-aftXfOgEXT"
      },
      "source": [
        "---\n",
        "### Exercicio Pyhton [12]\n",
        "Possuímos uma lista de cinco desenvolvedoras que participam do programa Maria vai com as devs. Elas se chamam: Andorinha, Azaléia, Amélia, Margarida e Rosa.\n",
        "\n",
        "Construa um programa que descubra quantas delas possuem o nome começando com a letra “A”.\n",
        "\n"
      ]
    },
    {
      "cell_type": "code",
      "metadata": {
        "id": "bFF8uV4LgSdj",
        "outputId": "db6bf3ca-d938-4213-effc-d7e3b4611046",
        "colab": {
          "base_uri": "https://localhost:8080/",
          "height": 70
        }
      },
      "source": [
        "lista = [\"Andorinha\",\"Azaléia\",\"Amélia\",\"Margarida\",\"Rosa\"]\n",
        "\n",
        "for nome in lista:\n",
        "  if(\"A\" in nome[0]):\n",
        "     print(nome)\n"
      ],
      "execution_count": null,
      "outputs": [
        {
          "output_type": "stream",
          "text": [
            "Andorinha\n",
            "Azaléia\n",
            "Amélia\n"
          ],
          "name": "stdout"
        }
      ]
    }
  ]
}